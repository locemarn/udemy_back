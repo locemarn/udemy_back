{
 "cells": [
  {
   "cell_type": "code",
   "execution_count": 34,
   "metadata": {
    "collapsed": true
   },
   "outputs": [
    {
     "data": {
      "text/plain": "      course_id                                       course_title  \\\n0       1070968                 Ultimate Investment Banking Course   \n1       1113822  Complete GST Course & Certification - Grow You...   \n2       1006314  Financial Modeling for Business Analysts and C...   \n3       1210588  Beginner to Pro - Financial Analysis in Excel ...   \n4       1011058       How To Maximize Your Profits Trading Options   \n...         ...                                                ...   \n3678     775618  Learn jQuery from Scratch - Master of JavaScri...   \n3679    1088178  How To Design A WordPress Website With No Codi...   \n3680     635248                      Learn and Build using Polymer   \n3681     905096  CSS Animations: Create Amazing Effects on Your...   \n3682     297602  Using MODX CMS to Build Websites: A Beginner's...   \n\n                                                    url is_paid price  \\\n0     https://www.udemy.com/ultimate-investment-bank...    True   200   \n1         https://www.udemy.com/goods-and-services-tax/    True    75   \n2     https://www.udemy.com/financial-modeling-for-b...    True    45   \n3     https://www.udemy.com/complete-excel-finance-c...    True    95   \n4     https://www.udemy.com/how-to-maximize-your-pro...    True   200   \n...                                                 ...     ...   ...   \n3678  https://www.udemy.com/easy-jquery-for-beginner...    True   100   \n3679  https://www.udemy.com/how-to-make-a-wordpress-...    True    25   \n3680  https://www.udemy.com/learn-and-build-using-po...    True    40   \n3681  https://www.udemy.com/css-animations-create-am...    True    50   \n3682  https://www.udemy.com/using-modx-cms-to-build-...    True    45   \n\n      num_subscribers  num_reviews  num_lectures               level  \\\n0                2147           23            51          All Levels   \n1                2792          923           274          All Levels   \n2                2174           74            51  Intermediate Level   \n3                2451           11            36          All Levels   \n4                1276           45            26  Intermediate Level   \n...               ...          ...           ...                 ...   \n3678             1040           14            21          All Levels   \n3679              306            3            42      Beginner Level   \n3680              513          169            48          All Levels   \n3681              300           31            38          All Levels   \n3682              901           36            20      Beginner Level   \n\n     content_duration   published_timestamp           subject  \n0           1.5 hours  2017-01-18T20:58:58Z  Business Finance  \n1            39 hours  2017-03-09T16:34:20Z  Business Finance  \n2           2.5 hours  2016-12-19T19:26:30Z  Business Finance  \n3             3 hours  2017-05-30T20:07:24Z  Business Finance  \n4             2 hours  2016-12-13T14:57:18Z  Business Finance  \n...               ...                   ...               ...  \n3678          2 hours  2016-06-14T17:36:46Z   Web Development  \n3679        3.5 hours  2017-03-10T22:24:30Z   Web Development  \n3680        3.5 hours  2015-12-30T16:41:42Z   Web Development  \n3681          3 hours  2016-08-11T19:06:15Z   Web Development  \n3682          2 hours  2014-09-28T19:51:11Z   Web Development  \n\n[3683 rows x 12 columns]",
      "text/html": "<div>\n<style scoped>\n    .dataframe tbody tr th:only-of-type {\n        vertical-align: middle;\n    }\n\n    .dataframe tbody tr th {\n        vertical-align: top;\n    }\n\n    .dataframe thead th {\n        text-align: right;\n    }\n</style>\n<table border=\"1\" class=\"dataframe\">\n  <thead>\n    <tr style=\"text-align: right;\">\n      <th></th>\n      <th>course_id</th>\n      <th>course_title</th>\n      <th>url</th>\n      <th>is_paid</th>\n      <th>price</th>\n      <th>num_subscribers</th>\n      <th>num_reviews</th>\n      <th>num_lectures</th>\n      <th>level</th>\n      <th>content_duration</th>\n      <th>published_timestamp</th>\n      <th>subject</th>\n    </tr>\n  </thead>\n  <tbody>\n    <tr>\n      <th>0</th>\n      <td>1070968</td>\n      <td>Ultimate Investment Banking Course</td>\n      <td>https://www.udemy.com/ultimate-investment-bank...</td>\n      <td>True</td>\n      <td>200</td>\n      <td>2147</td>\n      <td>23</td>\n      <td>51</td>\n      <td>All Levels</td>\n      <td>1.5 hours</td>\n      <td>2017-01-18T20:58:58Z</td>\n      <td>Business Finance</td>\n    </tr>\n    <tr>\n      <th>1</th>\n      <td>1113822</td>\n      <td>Complete GST Course &amp; Certification - Grow You...</td>\n      <td>https://www.udemy.com/goods-and-services-tax/</td>\n      <td>True</td>\n      <td>75</td>\n      <td>2792</td>\n      <td>923</td>\n      <td>274</td>\n      <td>All Levels</td>\n      <td>39 hours</td>\n      <td>2017-03-09T16:34:20Z</td>\n      <td>Business Finance</td>\n    </tr>\n    <tr>\n      <th>2</th>\n      <td>1006314</td>\n      <td>Financial Modeling for Business Analysts and C...</td>\n      <td>https://www.udemy.com/financial-modeling-for-b...</td>\n      <td>True</td>\n      <td>45</td>\n      <td>2174</td>\n      <td>74</td>\n      <td>51</td>\n      <td>Intermediate Level</td>\n      <td>2.5 hours</td>\n      <td>2016-12-19T19:26:30Z</td>\n      <td>Business Finance</td>\n    </tr>\n    <tr>\n      <th>3</th>\n      <td>1210588</td>\n      <td>Beginner to Pro - Financial Analysis in Excel ...</td>\n      <td>https://www.udemy.com/complete-excel-finance-c...</td>\n      <td>True</td>\n      <td>95</td>\n      <td>2451</td>\n      <td>11</td>\n      <td>36</td>\n      <td>All Levels</td>\n      <td>3 hours</td>\n      <td>2017-05-30T20:07:24Z</td>\n      <td>Business Finance</td>\n    </tr>\n    <tr>\n      <th>4</th>\n      <td>1011058</td>\n      <td>How To Maximize Your Profits Trading Options</td>\n      <td>https://www.udemy.com/how-to-maximize-your-pro...</td>\n      <td>True</td>\n      <td>200</td>\n      <td>1276</td>\n      <td>45</td>\n      <td>26</td>\n      <td>Intermediate Level</td>\n      <td>2 hours</td>\n      <td>2016-12-13T14:57:18Z</td>\n      <td>Business Finance</td>\n    </tr>\n    <tr>\n      <th>...</th>\n      <td>...</td>\n      <td>...</td>\n      <td>...</td>\n      <td>...</td>\n      <td>...</td>\n      <td>...</td>\n      <td>...</td>\n      <td>...</td>\n      <td>...</td>\n      <td>...</td>\n      <td>...</td>\n      <td>...</td>\n    </tr>\n    <tr>\n      <th>3678</th>\n      <td>775618</td>\n      <td>Learn jQuery from Scratch - Master of JavaScri...</td>\n      <td>https://www.udemy.com/easy-jquery-for-beginner...</td>\n      <td>True</td>\n      <td>100</td>\n      <td>1040</td>\n      <td>14</td>\n      <td>21</td>\n      <td>All Levels</td>\n      <td>2 hours</td>\n      <td>2016-06-14T17:36:46Z</td>\n      <td>Web Development</td>\n    </tr>\n    <tr>\n      <th>3679</th>\n      <td>1088178</td>\n      <td>How To Design A WordPress Website With No Codi...</td>\n      <td>https://www.udemy.com/how-to-make-a-wordpress-...</td>\n      <td>True</td>\n      <td>25</td>\n      <td>306</td>\n      <td>3</td>\n      <td>42</td>\n      <td>Beginner Level</td>\n      <td>3.5 hours</td>\n      <td>2017-03-10T22:24:30Z</td>\n      <td>Web Development</td>\n    </tr>\n    <tr>\n      <th>3680</th>\n      <td>635248</td>\n      <td>Learn and Build using Polymer</td>\n      <td>https://www.udemy.com/learn-and-build-using-po...</td>\n      <td>True</td>\n      <td>40</td>\n      <td>513</td>\n      <td>169</td>\n      <td>48</td>\n      <td>All Levels</td>\n      <td>3.5 hours</td>\n      <td>2015-12-30T16:41:42Z</td>\n      <td>Web Development</td>\n    </tr>\n    <tr>\n      <th>3681</th>\n      <td>905096</td>\n      <td>CSS Animations: Create Amazing Effects on Your...</td>\n      <td>https://www.udemy.com/css-animations-create-am...</td>\n      <td>True</td>\n      <td>50</td>\n      <td>300</td>\n      <td>31</td>\n      <td>38</td>\n      <td>All Levels</td>\n      <td>3 hours</td>\n      <td>2016-08-11T19:06:15Z</td>\n      <td>Web Development</td>\n    </tr>\n    <tr>\n      <th>3682</th>\n      <td>297602</td>\n      <td>Using MODX CMS to Build Websites: A Beginner's...</td>\n      <td>https://www.udemy.com/using-modx-cms-to-build-...</td>\n      <td>True</td>\n      <td>45</td>\n      <td>901</td>\n      <td>36</td>\n      <td>20</td>\n      <td>Beginner Level</td>\n      <td>2 hours</td>\n      <td>2014-09-28T19:51:11Z</td>\n      <td>Web Development</td>\n    </tr>\n  </tbody>\n</table>\n<p>3683 rows × 12 columns</p>\n</div>"
     },
     "execution_count": 34,
     "metadata": {},
     "output_type": "execute_result"
    }
   ],
   "source": [
    "import numpy as np # linear algebra\n",
    "import pandas as pd # data processing, CSV file I/O (e.g. pd.read_csv)\n",
    "import seaborn as sns\n",
    "import matplotlib.pyplot as plt\n",
    "from joblib import dump\n",
    "from sklearn.model_selection import train_test_split\n",
    "import sklearn.naive_bayes\n",
    "\n",
    "from sklearn.svm import SVC\n",
    "from sklearn.preprocessing import StandardScaler\n",
    "from sklearn.pipeline import Pipeline\n",
    "\n",
    "%matplotlib inline\n",
    "\n",
    "data_path = \"./udemy_courses.csv\"\n",
    "df = pd.read_csv(data_path)\n",
    "\n",
    "df"
   ]
  },
  {
   "cell_type": "code",
   "execution_count": 35,
   "outputs": [
    {
     "name": "stderr",
     "output_type": "stream",
     "text": [
      "c:\\users\\mnsilva\\appdata\\local\\programs\\python\\python39\\lib\\site-packages\\pandas\\core\\indexing.py:1720: SettingWithCopyWarning: \n",
      "A value is trying to be set on a copy of a slice from a DataFrame.\n",
      "Try using .loc[row_indexer,col_indexer] = value instead\n",
      "\n",
      "See the caveats in the documentation: https://pandas.pydata.org/pandas-docs/stable/user_guide/indexing.html#returning-a-view-versus-a-copy\n",
      "  self._setitem_single_column(loc, value, pi)\n"
     ]
    },
    {
     "data": {
      "text/plain": "      course_id                                       course_title  \\\n2066      96698  Learn Classical Guitar Technique and play 'Spa...   \n\n                                              url is_paid price  \\\n2066  https://www.udemy.com/learnguitartoworship/    True   349   \n\n      num_subscribers  num_reviews  num_lectures level content_duration  \\\n2066               30         1463            29    52   Beginner Level   \n\n     published_timestamp              subject  \n2066             3 hours  Musical Instruments  ",
      "text/html": "<div>\n<style scoped>\n    .dataframe tbody tr th:only-of-type {\n        vertical-align: middle;\n    }\n\n    .dataframe tbody tr th {\n        vertical-align: top;\n    }\n\n    .dataframe thead th {\n        text-align: right;\n    }\n</style>\n<table border=\"1\" class=\"dataframe\">\n  <thead>\n    <tr style=\"text-align: right;\">\n      <th></th>\n      <th>course_id</th>\n      <th>course_title</th>\n      <th>url</th>\n      <th>is_paid</th>\n      <th>price</th>\n      <th>num_subscribers</th>\n      <th>num_reviews</th>\n      <th>num_lectures</th>\n      <th>level</th>\n      <th>content_duration</th>\n      <th>published_timestamp</th>\n      <th>subject</th>\n    </tr>\n  </thead>\n  <tbody>\n    <tr>\n      <th>2066</th>\n      <td>96698</td>\n      <td>Learn Classical Guitar Technique and play 'Spa...</td>\n      <td>https://www.udemy.com/learnguitartoworship/</td>\n      <td>True</td>\n      <td>349</td>\n      <td>30</td>\n      <td>1463</td>\n      <td>29</td>\n      <td>52</td>\n      <td>Beginner Level</td>\n      <td>3 hours</td>\n      <td>Musical Instruments</td>\n    </tr>\n  </tbody>\n</table>\n</div>"
     },
     "execution_count": 35,
     "metadata": {},
     "output_type": "execute_result"
    }
   ],
   "source": [
    "# Removendo-as\n",
    "df = df.drop_duplicates(subset=['course_id'], keep='last')\n",
    "df[df.duplicated(['course_id'])]\n",
    "\n",
    "df[~df['url'].str.contains('https://www.udemy.com')]\n",
    "\n",
    "df.loc[2066, 'url'] = \"https://www.udemy.com/learnguitartoworship/\"\n",
    "df.loc[2066, 'is_paid'] = 'True' # aqui deixamos em string devido ao tratamento do próximo bloco.\n",
    "df.loc[2066, 'price'] = 349\n",
    "df.loc[[2066]]"
   ],
   "metadata": {
    "collapsed": false,
    "pycharm": {
     "name": "#%%\n"
    }
   }
  },
  {
   "cell_type": "code",
   "execution_count": 36,
   "outputs": [
    {
     "name": "stderr",
     "output_type": "stream",
     "text": [
      "<ipython-input-36-b980f0f6c88a>:2: FutureWarning: The default value of regex will change from True to False in a future version.\n",
      "  df['slug'] = df['url'].str.replace('https://www.udemy.com/', '').str.replace('/', '')\n",
      "<ipython-input-36-b980f0f6c88a>:2: SettingWithCopyWarning: \n",
      "A value is trying to be set on a copy of a slice from a DataFrame.\n",
      "Try using .loc[row_indexer,col_indexer] = value instead\n",
      "\n",
      "See the caveats in the documentation: https://pandas.pydata.org/pandas-docs/stable/user_guide/indexing.html#returning-a-view-versus-a-copy\n",
      "  df['slug'] = df['url'].str.replace('https://www.udemy.com/', '').str.replace('/', '')\n"
     ]
    },
    {
     "data": {
      "text/plain": "   course_id                                       course_title  \\\n0    1070968                 Ultimate Investment Banking Course   \n1    1113822  Complete GST Course & Certification - Grow You...   \n2    1006314  Financial Modeling for Business Analysts and C...   \n3    1210588  Beginner to Pro - Financial Analysis in Excel ...   \n4    1011058       How To Maximize Your Profits Trading Options   \n\n                                                 url is_paid price  \\\n0  https://www.udemy.com/ultimate-investment-bank...    True   200   \n1      https://www.udemy.com/goods-and-services-tax/    True    75   \n2  https://www.udemy.com/financial-modeling-for-b...    True    45   \n3  https://www.udemy.com/complete-excel-finance-c...    True    95   \n4  https://www.udemy.com/how-to-maximize-your-pro...    True   200   \n\n   num_subscribers  num_reviews  num_lectures               level  \\\n0             2147           23            51          All Levels   \n1             2792          923           274          All Levels   \n2             2174           74            51  Intermediate Level   \n3             2451           11            36          All Levels   \n4             1276           45            26  Intermediate Level   \n\n  content_duration   published_timestamp           subject  \\\n0        1.5 hours  2017-01-18T20:58:58Z  Business Finance   \n1         39 hours  2017-03-09T16:34:20Z  Business Finance   \n2        2.5 hours  2016-12-19T19:26:30Z  Business Finance   \n3          3 hours  2017-05-30T20:07:24Z  Business Finance   \n4          2 hours  2016-12-13T14:57:18Z  Business Finance   \n\n                                                slug  \n0                 ultimate-investment-banking-course  \n1                             goods-and-services-tax  \n2  financial-modeling-for-business-analysts-and-c...  \n3  complete-excel-finance-course-from-beginner-to...  \n4       how-to-maximize-your-profits-trading-options  ",
      "text/html": "<div>\n<style scoped>\n    .dataframe tbody tr th:only-of-type {\n        vertical-align: middle;\n    }\n\n    .dataframe tbody tr th {\n        vertical-align: top;\n    }\n\n    .dataframe thead th {\n        text-align: right;\n    }\n</style>\n<table border=\"1\" class=\"dataframe\">\n  <thead>\n    <tr style=\"text-align: right;\">\n      <th></th>\n      <th>course_id</th>\n      <th>course_title</th>\n      <th>url</th>\n      <th>is_paid</th>\n      <th>price</th>\n      <th>num_subscribers</th>\n      <th>num_reviews</th>\n      <th>num_lectures</th>\n      <th>level</th>\n      <th>content_duration</th>\n      <th>published_timestamp</th>\n      <th>subject</th>\n      <th>slug</th>\n    </tr>\n  </thead>\n  <tbody>\n    <tr>\n      <th>0</th>\n      <td>1070968</td>\n      <td>Ultimate Investment Banking Course</td>\n      <td>https://www.udemy.com/ultimate-investment-bank...</td>\n      <td>True</td>\n      <td>200</td>\n      <td>2147</td>\n      <td>23</td>\n      <td>51</td>\n      <td>All Levels</td>\n      <td>1.5 hours</td>\n      <td>2017-01-18T20:58:58Z</td>\n      <td>Business Finance</td>\n      <td>ultimate-investment-banking-course</td>\n    </tr>\n    <tr>\n      <th>1</th>\n      <td>1113822</td>\n      <td>Complete GST Course &amp; Certification - Grow You...</td>\n      <td>https://www.udemy.com/goods-and-services-tax/</td>\n      <td>True</td>\n      <td>75</td>\n      <td>2792</td>\n      <td>923</td>\n      <td>274</td>\n      <td>All Levels</td>\n      <td>39 hours</td>\n      <td>2017-03-09T16:34:20Z</td>\n      <td>Business Finance</td>\n      <td>goods-and-services-tax</td>\n    </tr>\n    <tr>\n      <th>2</th>\n      <td>1006314</td>\n      <td>Financial Modeling for Business Analysts and C...</td>\n      <td>https://www.udemy.com/financial-modeling-for-b...</td>\n      <td>True</td>\n      <td>45</td>\n      <td>2174</td>\n      <td>74</td>\n      <td>51</td>\n      <td>Intermediate Level</td>\n      <td>2.5 hours</td>\n      <td>2016-12-19T19:26:30Z</td>\n      <td>Business Finance</td>\n      <td>financial-modeling-for-business-analysts-and-c...</td>\n    </tr>\n    <tr>\n      <th>3</th>\n      <td>1210588</td>\n      <td>Beginner to Pro - Financial Analysis in Excel ...</td>\n      <td>https://www.udemy.com/complete-excel-finance-c...</td>\n      <td>True</td>\n      <td>95</td>\n      <td>2451</td>\n      <td>11</td>\n      <td>36</td>\n      <td>All Levels</td>\n      <td>3 hours</td>\n      <td>2017-05-30T20:07:24Z</td>\n      <td>Business Finance</td>\n      <td>complete-excel-finance-course-from-beginner-to...</td>\n    </tr>\n    <tr>\n      <th>4</th>\n      <td>1011058</td>\n      <td>How To Maximize Your Profits Trading Options</td>\n      <td>https://www.udemy.com/how-to-maximize-your-pro...</td>\n      <td>True</td>\n      <td>200</td>\n      <td>1276</td>\n      <td>45</td>\n      <td>26</td>\n      <td>Intermediate Level</td>\n      <td>2 hours</td>\n      <td>2016-12-13T14:57:18Z</td>\n      <td>Business Finance</td>\n      <td>how-to-maximize-your-profits-trading-options</td>\n    </tr>\n  </tbody>\n</table>\n</div>"
     },
     "execution_count": 36,
     "metadata": {},
     "output_type": "execute_result"
    }
   ],
   "source": [
    "# Criando nossa coluna de slug\n",
    "df['slug'] = df['url'].str.replace('https://www.udemy.com/', '').str.replace('/', '')\n",
    "df.head(5)"
   ],
   "metadata": {
    "collapsed": false,
    "pycharm": {
     "name": "#%%\n"
    }
   }
  },
  {
   "cell_type": "code",
   "execution_count": 37,
   "outputs": [
    {
     "name": "stdout",
     "output_type": "stream",
     "text": [
      "vocabulario_slug \t\t3578 palavras.\n",
      "vocabulario_title \t\t4644 palavras.\n",
      "vocabulario_slug_title \t\t5595 palavras.\n"
     ]
    }
   ],
   "source": [
    "# Variáveis necessárias\n",
    "textos_slug = list(df['slug'])\n",
    "textos_title = list(df['course_title'])\n",
    "textos_slug_title = list(df['slug'] + ' ' + df['course_title'])\n",
    "\n",
    "vocabulario_slug = []\n",
    "vocabulario_title = []\n",
    "vocabulario_slug_title = []\n",
    "\n",
    "# Separando nosso vocabulário de Slug\n",
    "# E alimentamos nossa primeira parte do vocubulário que compõem slugs e títulos\n",
    "\n",
    "for text in textos_slug:\n",
    "    palavras = text.lower().split('-')\n",
    "    for t in palavras:\n",
    "        if t not in vocabulario_slug:\n",
    "            vocabulario_slug.append(t)\n",
    "\n",
    "vocabulario_slug_title = vocabulario_slug.copy()\n",
    "\n",
    "# Criando nosso vocabulário de Títulos\n",
    "# E alimentando nossa última parte do vocabulário de slugs e títulos (sem repetições)\n",
    "\n",
    "for text in textos_title:\n",
    "    palavras = text.lower().split(' ')\n",
    "    for t in palavras:\n",
    "        if t not in vocabulario_title:\n",
    "            vocabulario_title.append(t)\n",
    "\n",
    "        if t not in vocabulario_slug_title:\n",
    "            vocabulario_slug_title.append(t)\n",
    "\n",
    "\n",
    "\n",
    "print('vocabulario_slug \\t\\t' + str(len(vocabulario_slug)) + ' palavras.')\n",
    "print('vocabulario_title \\t\\t' + str(len(vocabulario_title)) + ' palavras.')\n",
    "print('vocabulario_slug_title \\t\\t' + str(len(vocabulario_slug_title)) + ' palavras.')"
   ],
   "metadata": {
    "collapsed": false,
    "pycharm": {
     "name": "#%%\n"
    }
   }
  },
  {
   "cell_type": "code",
   "execution_count": 38,
   "outputs": [
    {
     "data": {
      "text/plain": "['vocabulario_slug_title.joblib']"
     },
     "execution_count": 38,
     "metadata": {},
     "output_type": "execute_result"
    }
   ],
   "source": [
    "dump(vocabulario_slug_title, 'vocabulario_slug_title.joblib')\n"
   ],
   "metadata": {
    "collapsed": false,
    "pycharm": {
     "name": "#%%\n"
    }
   }
  },
  {
   "cell_type": "code",
   "execution_count": 39,
   "outputs": [
    {
     "name": "stdout",
     "output_type": "stream",
     "text": [
      "ok\n"
     ]
    }
   ],
   "source": [
    "# Variáveis necessárias\n",
    "\n",
    "amostra_slug_title = []\n",
    "\n",
    "\n",
    "\n",
    "# Amostras dos Títulos + Slugs (sem repetições)\n",
    "\n",
    "for t in textos_slug_title:\n",
    "    amostra = []\n",
    "    for p in vocabulario_slug_title:\n",
    "        if p in t.lower().replace('-', ' ').split(' '):\n",
    "            amostra.append(1)\n",
    "        else:\n",
    "            amostra.append(0)\n",
    "\n",
    "    amostra_slug_title.append(amostra)\n"
   ],
   "metadata": {
    "collapsed": false,
    "pycharm": {
     "name": "#%%\n"
    }
   }
  },
  {
   "cell_type": "code",
   "execution_count": 41,
   "outputs": [
    {
     "name": "stdout",
     "output_type": "stream",
     "text": [
      "score ---> 0.9641304347826087\n",
      "finished\n"
     ]
    }
   ],
   "source": [
    "# Obtendo os arrays das nossas amostras\n",
    "\n",
    "amostra_slug_title = np.array(amostra_slug_title)\n",
    "\n",
    "from sklearn.naive_bayes import BernoulliNB, ComplementNB, MultinomialNB\n",
    "from sklearn.metrics import accuracy_score\n",
    "\n",
    "# Modelo a ser utilizado de Naive Bayes\n",
    "modelo = 'ComplementNB'\n",
    "\n",
    "X_train, X_test, y_train, y_test = train_test_split(amostra_slug_title, df['subject'], random_state=42)\n",
    "\n",
    "model = getattr(sklearn.naive_bayes, modelo)()\n",
    "model.fit(X_train, y_train)\n",
    "y_predict = model.predict(X_test)\n",
    "\n",
    "score = accuracy_score(y_test, y_predict)\n",
    "\n",
    "print('score --->', score)\n",
    "\n",
    "pipe = Pipeline([('scaler', StandardScaler()), ('svc', SVC())])\n",
    "\n",
    "pipe.fit(X_train, y_train)\n",
    "\n",
    "dump(pipe, 'model.joblib')\n",
    "\n",
    "print('finished')\n"
   ],
   "metadata": {
    "collapsed": false,
    "pycharm": {
     "name": "#%%\n"
    }
   }
  }
 ],
 "metadata": {
  "kernelspec": {
   "display_name": "Python 3",
   "language": "python",
   "name": "python3"
  },
  "language_info": {
   "codemirror_mode": {
    "name": "ipython",
    "version": 2
   },
   "file_extension": ".py",
   "mimetype": "text/x-python",
   "name": "python",
   "nbconvert_exporter": "python",
   "pygments_lexer": "ipython2",
   "version": "2.7.6"
  }
 },
 "nbformat": 4,
 "nbformat_minor": 0
}